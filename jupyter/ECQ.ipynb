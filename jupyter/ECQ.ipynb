{
 "cells": [
  {
   "cell_type": "code",
   "execution_count": null,
   "metadata": {},
   "outputs": [],
   "source": [
    "import pandas as pd\n",
    "import numpy as np"
   ]
  },
  {
   "cell_type": "code",
   "execution_count": null,
   "metadata": {},
   "outputs": [],
   "source": [
    "import pandas as pd\n",
    "\n",
    "df = pd.read_csv(\"econ_parameters.csv\")\n",
    "df_output = pd.DataFrame()\n",
    "\n",
    "\n",
    "# delta_s =\n",
    "# epsilon_I =\n",
    "# epsilon_T = \n",
    "\n",
    "\n",
    "# Mar-Sep\n",
    "df_output['GCQ'] = df['Employed-to-population (kappa)']*df['dailyGVA']*df['GCQ (phi)']\n",
    "df_output['MGCQ'] = df['Employed-to-population (kappa)']*df['dailyGVA']*df['MGCQ (phi)']\n",
    "df_output['MECQ'] = df['Employed-to-population (kappa)']*df['dailyGVA']*df['MECQ (phi)']\n",
    "df_output['ECQ'] = df['Employed-to-population (kappa)']*df['dailyGVA']*df['ECQ (phi)']\n",
    "# Oct-Feb\n",
    "df_output['GCQ2'] = df['Employed-to-population (kappa)']*df['dailyGVA']*df['GCQ (phi)Oct-Feb']\n",
    "df_output['MGCQ2'] = df['Employed-to-population (kappa)']*df['dailyGVA']*df['MGCQ (phi)Oct-Feb']\n",
    "df_output['MECQ2'] = df['Employed-to-population (kappa)']*df['dailyGVA']*df['MECQ (phi)Oct-Feb']\n",
    "df_output['ECQ2'] = df['Employed-to-population (kappa)']*df['dailyGVA']*df['ECQ (phi)Oct-Feb']\n",
    "# Feb-On\n",
    "df_output['GCQ3'] = df['Employed-to-population (kappa)']*df['dailyGVA']*df['GCQ (phi)Feb-On']\n",
    "df_output['MGCQ3'] = df['Employed-to-population (kappa)']*df['dailyGVA']*df['MGCQ (phi)Feb-On']\n",
    "df_output['MECQ3'] = df['Employed-to-population (kappa)']*df['dailyGVA']*df['MECQ (phi)Feb-On']\n",
    "df_output['ECQ3'] = df['Employed-to-population (kappa)']*df['dailyGVA']*df['ECQ (phi)Feb-On']\n",
    "\n",
    "df_output['CQ.Classification'] = df['CQ.Classification']\n",
    "\n",
    "df_output.head()"
   ]
  },
  {
   "cell_type": "code",
   "execution_count": null,
   "metadata": {},
   "outputs": [],
   "source": [
    "row = df_output['CQ.Classification'][2]"
   ]
  },
  {
   "cell_type": "code",
   "execution_count": null,
   "metadata": {},
   "outputs": [],
   "source": [
    "row\n"
   ]
  },
  {
   "cell_type": "code",
   "execution_count": null,
   "metadata": {},
   "outputs": [],
   "source": [
    "type(row)"
   ]
  },
  {
   "cell_type": "code",
   "execution_count": null,
   "metadata": {},
   "outputs": [],
   "source": [
    "# split string to make it a list and assign it to column 'result'\n",
    "df_output['result'] = df_output['CQ.Classification'].str.split(';')"
   ]
  },
  {
   "cell_type": "code",
   "execution_count": null,
   "metadata": {},
   "outputs": [],
   "source": [
    "df_output['result']"
   ]
  },
  {
   "cell_type": "code",
   "execution_count": null,
   "metadata": {},
   "outputs": [],
   "source": [
    "# get column values based on result, if NaN assign 0\n",
    "df_output['output'] = df_output.apply(lambda x: 0 if x['result'] is np.nan else x[x['result']], axis=1)"
   ]
  },
  {
   "cell_type": "code",
   "execution_count": null,
   "metadata": {},
   "outputs": [],
   "source": [
    "df_output"
   ]
  },
  {
   "cell_type": "code",
   "execution_count": null,
   "metadata": {},
   "outputs": [],
   "source": []
  }
 ],
 "metadata": {
  "kernelspec": {
   "display_name": "Python 3",
   "language": "python",
   "name": "python3"
  },
  "language_info": {
   "codemirror_mode": {
    "name": "ipython",
    "version": 3
   },
   "file_extension": ".py",
   "mimetype": "text/x-python",
   "name": "python",
   "nbconvert_exporter": "python",
   "pygments_lexer": "ipython3",
   "version": "3.6.5"
  }
 },
 "nbformat": 4,
 "nbformat_minor": 2
}
